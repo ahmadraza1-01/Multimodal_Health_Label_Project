{
  "cells": [
    {
      "cell_type": "markdown",
      "id": "atvOzI8lSIHL",
      "metadata": {
        "id": "atvOzI8lSIHL"
      },
      "source": [
        "After concatenation of BoAW_MFCC and BoAW_eGeMAPS"
      ]
    },
    {
      "cell_type": "markdown",
      "id": "mDVs4XHJSYHU",
      "metadata": {
        "id": "mDVs4XHJSYHU"
      },
      "source": [
        "Bi-LSTM with Weighted Loss APPLIED"
      ]
    },
    {
      "cell_type": "code",
      "execution_count": null,
      "id": "-PQboziqroZM",
      "metadata": {
        "colab": {
          "base_uri": "https://localhost:8080/"
        },
        "id": "-PQboziqroZM",
        "outputId": "50c83729-e732-4a00-bcea-0b675e211e51"
      },
      "outputs": [
        {
          "name": "stdout",
          "output_type": "stream",
          "text": [
            "Mounted at /content/drive\n"
          ]
        }
      ],
      "source": [
        "from google.colab import drive\n",
        "import os\n",
        "\n",
        "# Mount Google Drive\n",
        "drive.mount('/content/drive')"
      ]
    },
    {
      "cell_type": "markdown",
      "id": "gn6-PzfNGVaO",
      "metadata": {
        "id": "gn6-PzfNGVaO"
      },
      "source": [
        "# ## 1. Setup and Imports\n",
        "\n",
        "\n"
      ]
    },
    {
      "cell_type": "code",
      "execution_count": null,
      "id": "RhBW-5l_IOIC",
      "metadata": {
        "colab": {
          "base_uri": "https://localhost:8080/"
        },
        "id": "RhBW-5l_IOIC",
        "outputId": "ac11359e-b0a5-4959-c689-edbd036509a4"
      },
      "outputs": [
        {
          "name": "stdout",
          "output_type": "stream",
          "text": [
            "Requirement already satisfied: torch in /usr/local/lib/python3.11/dist-packages (2.6.0+cu124)\n",
            "Requirement already satisfied: filelock in /usr/local/lib/python3.11/dist-packages (from torch) (3.18.0)\n",
            "Requirement already satisfied: typing-extensions>=4.10.0 in /usr/local/lib/python3.11/dist-packages (from torch) (4.13.2)\n",
            "Requirement already satisfied: networkx in /usr/local/lib/python3.11/dist-packages (from torch) (3.4.2)\n",
            "Requirement already satisfied: jinja2 in /usr/local/lib/python3.11/dist-packages (from torch) (3.1.6)\n",
            "Requirement already satisfied: fsspec in /usr/local/lib/python3.11/dist-packages (from torch) (2025.3.2)\n",
            "Collecting nvidia-cuda-nvrtc-cu12==12.4.127 (from torch)\n",
            "  Downloading nvidia_cuda_nvrtc_cu12-12.4.127-py3-none-manylinux2014_x86_64.whl.metadata (1.5 kB)\n",
            "Collecting nvidia-cuda-runtime-cu12==12.4.127 (from torch)\n",
            "  Downloading nvidia_cuda_runtime_cu12-12.4.127-py3-none-manylinux2014_x86_64.whl.metadata (1.5 kB)\n",
            "Collecting nvidia-cuda-cupti-cu12==12.4.127 (from torch)\n",
            "  Downloading nvidia_cuda_cupti_cu12-12.4.127-py3-none-manylinux2014_x86_64.whl.metadata (1.6 kB)\n",
            "Collecting nvidia-cudnn-cu12==9.1.0.70 (from torch)\n",
            "  Downloading nvidia_cudnn_cu12-9.1.0.70-py3-none-manylinux2014_x86_64.whl.metadata (1.6 kB)\n",
            "Collecting nvidia-cublas-cu12==12.4.5.8 (from torch)\n",
            "  Downloading nvidia_cublas_cu12-12.4.5.8-py3-none-manylinux2014_x86_64.whl.metadata (1.5 kB)\n",
            "Collecting nvidia-cufft-cu12==11.2.1.3 (from torch)\n",
            "  Downloading nvidia_cufft_cu12-11.2.1.3-py3-none-manylinux2014_x86_64.whl.metadata (1.5 kB)\n",
            "Collecting nvidia-curand-cu12==10.3.5.147 (from torch)\n",
            "  Downloading nvidia_curand_cu12-10.3.5.147-py3-none-manylinux2014_x86_64.whl.metadata (1.5 kB)\n",
            "Collecting nvidia-cusolver-cu12==11.6.1.9 (from torch)\n",
            "  Downloading nvidia_cusolver_cu12-11.6.1.9-py3-none-manylinux2014_x86_64.whl.metadata (1.6 kB)\n",
            "Collecting nvidia-cusparse-cu12==12.3.1.170 (from torch)\n",
            "  Downloading nvidia_cusparse_cu12-12.3.1.170-py3-none-manylinux2014_x86_64.whl.metadata (1.6 kB)\n",
            "Requirement already satisfied: nvidia-cusparselt-cu12==0.6.2 in /usr/local/lib/python3.11/dist-packages (from torch) (0.6.2)\n",
            "Requirement already satisfied: nvidia-nccl-cu12==2.21.5 in /usr/local/lib/python3.11/dist-packages (from torch) (2.21.5)\n",
            "Requirement already satisfied: nvidia-nvtx-cu12==12.4.127 in /usr/local/lib/python3.11/dist-packages (from torch) (12.4.127)\n",
            "Collecting nvidia-nvjitlink-cu12==12.4.127 (from torch)\n",
            "  Downloading nvidia_nvjitlink_cu12-12.4.127-py3-none-manylinux2014_x86_64.whl.metadata (1.5 kB)\n",
            "Requirement already satisfied: triton==3.2.0 in /usr/local/lib/python3.11/dist-packages (from torch) (3.2.0)\n",
            "Requirement already satisfied: sympy==1.13.1 in /usr/local/lib/python3.11/dist-packages (from torch) (1.13.1)\n",
            "Requirement already satisfied: mpmath<1.4,>=1.1.0 in /usr/local/lib/python3.11/dist-packages (from sympy==1.13.1->torch) (1.3.0)\n",
            "Requirement already satisfied: MarkupSafe>=2.0 in /usr/local/lib/python3.11/dist-packages (from jinja2->torch) (3.0.2)\n",
            "Downloading nvidia_cublas_cu12-12.4.5.8-py3-none-manylinux2014_x86_64.whl (363.4 MB)\n",
            "\u001b[2K   \u001b[90m━━━━━━━━━━━━━━━━━━━━━━━━━━━━━━━━━━━━━━━━\u001b[0m \u001b[32m363.4/363.4 MB\u001b[0m \u001b[31m3.9 MB/s\u001b[0m eta \u001b[36m0:00:00\u001b[0m\n",
            "\u001b[?25hDownloading nvidia_cuda_cupti_cu12-12.4.127-py3-none-manylinux2014_x86_64.whl (13.8 MB)\n",
            "\u001b[2K   \u001b[90m━━━━━━━━━━━━━━━━━━━━━━━━━━━━━━━━━━━━━━━━\u001b[0m \u001b[32m13.8/13.8 MB\u001b[0m \u001b[31m59.6 MB/s\u001b[0m eta \u001b[36m0:00:00\u001b[0m\n",
            "\u001b[?25hDownloading nvidia_cuda_nvrtc_cu12-12.4.127-py3-none-manylinux2014_x86_64.whl (24.6 MB)\n",
            "\u001b[2K   \u001b[90m━━━━━━━━━━━━━━━━━━━━━━━━━━━━━━━━━━━━━━━━\u001b[0m \u001b[32m24.6/24.6 MB\u001b[0m \u001b[31m28.1 MB/s\u001b[0m eta \u001b[36m0:00:00\u001b[0m\n",
            "\u001b[?25hDownloading nvidia_cuda_runtime_cu12-12.4.127-py3-none-manylinux2014_x86_64.whl (883 kB)\n",
            "\u001b[2K   \u001b[90m━━━━━━━━━━━━━━━━━━━━━━━━━━━━━━━━━━━━━━━━\u001b[0m \u001b[32m883.7/883.7 kB\u001b[0m \u001b[31m32.0 MB/s\u001b[0m eta \u001b[36m0:00:00\u001b[0m\n",
            "\u001b[?25hDownloading nvidia_cudnn_cu12-9.1.0.70-py3-none-manylinux2014_x86_64.whl (664.8 MB)\n",
            "\u001b[2K   \u001b[90m━━━━━━━━━━━━━━━━━━━━━━━━━━━━━━━━━━━━━━━━\u001b[0m \u001b[32m664.8/664.8 MB\u001b[0m \u001b[31m2.5 MB/s\u001b[0m eta \u001b[36m0:00:00\u001b[0m\n",
            "\u001b[?25hDownloading nvidia_cufft_cu12-11.2.1.3-py3-none-manylinux2014_x86_64.whl (211.5 MB)\n",
            "\u001b[2K   \u001b[90m━━━━━━━━━━━━━━━━━━━━━━━━━━━━━━━━━━━━━━━━\u001b[0m \u001b[32m211.5/211.5 MB\u001b[0m \u001b[31m6.3 MB/s\u001b[0m eta \u001b[36m0:00:00\u001b[0m\n",
            "\u001b[?25hDownloading nvidia_curand_cu12-10.3.5.147-py3-none-manylinux2014_x86_64.whl (56.3 MB)\n",
            "\u001b[2K   \u001b[90m━━━━━━━━━━━━━━━━━━━━━━━━━━━━━━━━━━━━━━━━\u001b[0m \u001b[32m56.3/56.3 MB\u001b[0m \u001b[31m13.0 MB/s\u001b[0m eta \u001b[36m0:00:00\u001b[0m\n",
            "\u001b[?25hDownloading nvidia_cusolver_cu12-11.6.1.9-py3-none-manylinux2014_x86_64.whl (127.9 MB)\n",
            "\u001b[2K   \u001b[90m━━━━━━━━━━━━━━━━━━━━━━━━━━━━━━━━━━━━━━━━\u001b[0m \u001b[32m127.9/127.9 MB\u001b[0m \u001b[31m7.6 MB/s\u001b[0m eta \u001b[36m0:00:00\u001b[0m\n",
            "\u001b[?25hDownloading nvidia_cusparse_cu12-12.3.1.170-py3-none-manylinux2014_x86_64.whl (207.5 MB)\n",
            "\u001b[2K   \u001b[90m━━━━━━━━━━━━━━━━━━━━━━━━━━━━━━━━━━━━━━━━\u001b[0m \u001b[32m207.5/207.5 MB\u001b[0m \u001b[31m5.8 MB/s\u001b[0m eta \u001b[36m0:00:00\u001b[0m\n",
            "\u001b[?25hDownloading nvidia_nvjitlink_cu12-12.4.127-py3-none-manylinux2014_x86_64.whl (21.1 MB)\n",
            "\u001b[2K   \u001b[90m━━━━━━━━━━━━━━━━━━━━━━━━━━━━━━━━━━━━━━━━\u001b[0m \u001b[32m21.1/21.1 MB\u001b[0m \u001b[31m88.9 MB/s\u001b[0m eta \u001b[36m0:00:00\u001b[0m\n",
            "\u001b[?25hInstalling collected packages: nvidia-nvjitlink-cu12, nvidia-curand-cu12, nvidia-cufft-cu12, nvidia-cuda-runtime-cu12, nvidia-cuda-nvrtc-cu12, nvidia-cuda-cupti-cu12, nvidia-cublas-cu12, nvidia-cusparse-cu12, nvidia-cudnn-cu12, nvidia-cusolver-cu12\n",
            "  Attempting uninstall: nvidia-nvjitlink-cu12\n",
            "    Found existing installation: nvidia-nvjitlink-cu12 12.5.82\n",
            "    Uninstalling nvidia-nvjitlink-cu12-12.5.82:\n",
            "      Successfully uninstalled nvidia-nvjitlink-cu12-12.5.82\n",
            "  Attempting uninstall: nvidia-curand-cu12\n",
            "    Found existing installation: nvidia-curand-cu12 10.3.6.82\n",
            "    Uninstalling nvidia-curand-cu12-10.3.6.82:\n",
            "      Successfully uninstalled nvidia-curand-cu12-10.3.6.82\n",
            "  Attempting uninstall: nvidia-cufft-cu12\n",
            "    Found existing installation: nvidia-cufft-cu12 11.2.3.61\n",
            "    Uninstalling nvidia-cufft-cu12-11.2.3.61:\n",
            "      Successfully uninstalled nvidia-cufft-cu12-11.2.3.61\n",
            "  Attempting uninstall: nvidia-cuda-runtime-cu12\n",
            "    Found existing installation: nvidia-cuda-runtime-cu12 12.5.82\n",
            "    Uninstalling nvidia-cuda-runtime-cu12-12.5.82:\n",
            "      Successfully uninstalled nvidia-cuda-runtime-cu12-12.5.82\n",
            "  Attempting uninstall: nvidia-cuda-nvrtc-cu12\n",
            "    Found existing installation: nvidia-cuda-nvrtc-cu12 12.5.82\n",
            "    Uninstalling nvidia-cuda-nvrtc-cu12-12.5.82:\n",
            "      Successfully uninstalled nvidia-cuda-nvrtc-cu12-12.5.82\n",
            "  Attempting uninstall: nvidia-cuda-cupti-cu12\n",
            "    Found existing installation: nvidia-cuda-cupti-cu12 12.5.82\n",
            "    Uninstalling nvidia-cuda-cupti-cu12-12.5.82:\n",
            "      Successfully uninstalled nvidia-cuda-cupti-cu12-12.5.82\n",
            "  Attempting uninstall: nvidia-cublas-cu12\n",
            "    Found existing installation: nvidia-cublas-cu12 12.5.3.2\n",
            "    Uninstalling nvidia-cublas-cu12-12.5.3.2:\n",
            "      Successfully uninstalled nvidia-cublas-cu12-12.5.3.2\n",
            "  Attempting uninstall: nvidia-cusparse-cu12\n",
            "    Found existing installation: nvidia-cusparse-cu12 12.5.1.3\n",
            "    Uninstalling nvidia-cusparse-cu12-12.5.1.3:\n",
            "      Successfully uninstalled nvidia-cusparse-cu12-12.5.1.3\n",
            "  Attempting uninstall: nvidia-cudnn-cu12\n",
            "    Found existing installation: nvidia-cudnn-cu12 9.3.0.75\n",
            "    Uninstalling nvidia-cudnn-cu12-9.3.0.75:\n",
            "^C\n"
          ]
        }
      ],
      "source": [
        "pip install torch"
      ]
    },
    {
      "cell_type": "code",
      "execution_count": null,
      "id": "76a8421b",
      "metadata": {
        "colab": {
          "base_uri": "https://localhost:8080/"
        },
        "id": "76a8421b",
        "outputId": "2f72e13f-d682-435a-e883-1cec6deadaa4"
      },
      "outputs": [
        {
          "name": "stdout",
          "output_type": "stream",
          "text": [
            "Using device: cpu\n"
          ]
        }
      ],
      "source": [
        "import pandas as pd\n",
        "import numpy as np\n",
        "from sklearn.model_selection import train_test_split\n",
        "from sklearn.preprocessing import StandardScaler\n",
        "from sklearn.metrics import accuracy_score\n",
        "import torch\n",
        "from torch import nn\n",
        "from torch.utils.data import Dataset, DataLoader\n",
        "from torch.utils.data import random_split\n",
        "import os\n",
        "\n",
        "device = torch.device(\"cuda\" if torch.cuda.is_available() else \"cpu\")\n",
        "print(\"Using device:\", device)"
      ]
    },
    {
      "cell_type": "markdown",
      "id": "x0R9ZwNmG9UN",
      "metadata": {
        "id": "x0R9ZwNmG9UN"
      },
      "source": [
        "# ## 2. Define Paths and Parameters"
      ]
    },
    {
      "cell_type": "code",
      "execution_count": 17,
      "id": "Ch7K3rYJG4uh",
      "metadata": {
        "id": "Ch7K3rYJG4uh"
      },
      "outputs": [],
      "source": [
        "# CONFIG\n",
        "FEATURE_DIM = 200  # 100 MFCC + 100 eGeMAPS\n",
        "BATCH_SIZE = 32\n",
        "NUM_EPOCHS = 20\n",
        "LEARNING_RATE = 0.001\n",
        "NUM_CLASSES = 2   # or 2 if binary classification\n",
        "DATA_DIR = r\"C:\\Users\\ASUS\\Downloads\\BoAW_combined-20250427T130943Z-001\\BoAW_combined\" #access concatenated datasets\n",
        "LABEL_FILE = r\"C:\\Users\\ASUS\\Downloads\\Dep.csv\""
      ]
    },
    {
      "cell_type": "markdown",
      "id": "VIssIhqiGxEW",
      "metadata": {
        "id": "VIssIhqiGxEW"
      },
      "source": [
        "# ## 3. Find the Max_Timestamp\n"
      ]
    },
    {
      "cell_type": "code",
      "execution_count": 3,
      "id": "X9uHfh5NKJ4w",
      "metadata": {
        "id": "X9uHfh5NKJ4w"
      },
      "outputs": [],
      "source": [
        "MAX_TIMESTEPS = 10000"
      ]
    },
    {
      "cell_type": "markdown",
      "id": "6pL2vFyxC2G4",
      "metadata": {
        "id": "6pL2vFyxC2G4"
      },
      "source": [
        "# ##Encode *Labels*"
      ]
    },
    {
      "cell_type": "code",
      "execution_count": 4,
      "id": "DJcJHIVVCygc",
      "metadata": {
        "id": "DJcJHIVVCygc"
      },
      "outputs": [],
      "source": [
        "# Load labels\n",
        "label_df = pd.read_csv(LABEL_FILE)\n",
        "label_map = {str(row['Participant']): row['Depression_label'] for _, row in label_df.iterrows()}"
      ]
    },
    {
      "cell_type": "code",
      "execution_count": 6,
      "id": "Ok3WlPQzyCMr",
      "metadata": {
        "colab": {
          "base_uri": "https://localhost:8080/"
        },
        "id": "Ok3WlPQzyCMr",
        "outputId": "7b702a68-98f8-4b33-c5db-071d02dd12dc"
      },
      "outputs": [
        {
          "name": "stdout",
          "output_type": "stream",
          "text": [
            "Counter({0: 209, 1: 66})\n"
          ]
        }
      ],
      "source": [
        "from collections import Counter\n",
        "\n",
        "# Suppose your labels are loaded properly\n",
        "label_counts = Counter(label_df['Depression_label'])  # Only use the labels column\n",
        "print(label_counts)\n",
        "\n",
        "# Now compute inverse class weights\n",
        "total = sum(label_counts.values())\n",
        "class_weights = [total / label_counts[i] for i in range(len(label_counts))]\n",
        "weights = torch.tensor(class_weights).to(device)\n",
        "\n",
        "# Correctly define the loss\n",
        "criterion = nn.CrossEntropyLoss(weight=weights)"
      ]
    },
    {
      "cell_type": "code",
      "execution_count": 9,
      "id": "450eb115",
      "metadata": {},
      "outputs": [
        {
          "data": {
            "text/plain": [
              "tensor([1.3158, 4.1667])"
            ]
          },
          "execution_count": 9,
          "metadata": {},
          "output_type": "execute_result"
        }
      ],
      "source": [
        "weights"
      ]
    },
    {
      "cell_type": "markdown",
      "id": "4H5lAbdAQFcO",
      "metadata": {
        "id": "4H5lAbdAQFcO"
      },
      "source": [
        "# ## 4. Define SleepDataset"
      ]
    },
    {
      "cell_type": "code",
      "execution_count": 18,
      "id": "92fc18ee",
      "metadata": {
        "id": "92fc18ee"
      },
      "outputs": [],
      "source": [
        "# Dataset class\n",
        "class SleepDataset(Dataset):\n",
        "    def __init__(self, feature_dir, label_map, max_len):\n",
        "        self.paths = sorted([os.path.join(feature_dir, f) for f in os.listdir(feature_dir) if f.endswith(\".csv\")])\n",
        "        self.label_map = label_map\n",
        "        self.max_len = max_len\n",
        "\n",
        "    def __len__(self):\n",
        "        return len(self.paths)\n",
        "\n",
        "    def __getitem__(self, idx):\n",
        "        path = self.paths[idx]\n",
        "        pid = os.path.basename(path).split('_')[0]\n",
        "        X = pd.read_csv(path).values\n",
        "        X = StandardScaler().fit_transform(X)\n",
        "        X = X[:self.max_len, :]\n",
        "        if X.shape[0] < self.max_len:\n",
        "            X = np.pad(X, ((0, self.max_len - X.shape[0]), (0, 0)))\n",
        "        y = self.label_map.get(pid, -1)\n",
        "        return torch.tensor(X, dtype=torch.float32), torch.tensor(y, dtype=torch.long)\n",
        "\n"
      ]
    },
    {
      "cell_type": "markdown",
      "id": "vcX0pn2zQLVD",
      "metadata": {
        "id": "vcX0pn2zQLVD"
      },
      "source": [
        "# ## 6. Define BiLSTM Model"
      ]
    },
    {
      "cell_type": "code",
      "execution_count": 19,
      "id": "1003d9e6",
      "metadata": {
        "id": "1003d9e6"
      },
      "outputs": [],
      "source": [
        "import torch.nn as nn\n",
        "import torch\n",
        "\n",
        "import torch\n",
        "\n",
        "class BiLSTMModel(nn.Module):\n",
        "    def __init__(self, input_dim, output_dim):\n",
        "        super().__init__()\n",
        "        self.lstm = nn.LSTM(input_dim, 128, batch_first=True, bidirectional=True, dropout=0.3)\n",
        "\n",
        "        self.norm = nn.LayerNorm(256)  # Because bidirectional: 128 * 2\n",
        "        self.dropout = nn.Dropout(0.5)\n",
        "        self.pool = nn.AdaptiveAvgPool1d(1)\n",
        "\n",
        "        self.fc1 = nn.Linear(256, 64)\n",
        "        self.fc2 = nn.Linear(64, output_dim)\n",
        "\n",
        "    def forward(self, x):\n",
        "        x, _ = self.lstm(x)              # [batch, seq, 256]\n",
        "        x = self.dropout(x)\n",
        "        x = x.transpose(1, 2)            # [batch, 256, seq]\n",
        "        x = self.pool(x).squeeze(-1)     # [batch, 256]\n",
        "        x = self.norm(x)\n",
        "        x = torch.relu(self.fc1(x))      # [batch, 64]\n",
        "        x = self.dropout(x)\n",
        "        return self.fc2(x)               # [batch, output_dim]\n"
      ]
    },
    {
      "cell_type": "markdown",
      "id": "tJfjk4QWQxW0",
      "metadata": {
        "id": "tJfjk4QWQxW0"
      },
      "source": [
        "# ## 7. Define Early Stopping"
      ]
    },
    {
      "cell_type": "code",
      "execution_count": 20,
      "id": "AJR3yxXqTq5o",
      "metadata": {
        "id": "AJR3yxXqTq5o"
      },
      "outputs": [],
      "source": [
        "class EarlyStopping:\n",
        "    def __init__(self, patience=10, min_delta=0.0005):\n",
        "        self.patience = patience\n",
        "        self.min_delta = min_delta\n",
        "        self.counter = 0\n",
        "        self.best_loss = float('inf')\n",
        "        self.early_stop = False\n",
        "\n",
        "    def __call__(self, val_loss):\n",
        "        if val_loss < self.best_loss - self.min_delta:\n",
        "            self.best_loss = val_loss\n",
        "            self.counter = 0\n",
        "        else:\n",
        "            self.counter += 1\n",
        "            if self.counter >= self.patience:\n",
        "                self.early_stop = True\n"
      ]
    },
    {
      "cell_type": "markdown",
      "id": "u8ahaK5_Q252",
      "metadata": {
        "id": "u8ahaK5_Q252"
      },
      "source": [
        "# ##8 Data Loading, Training and Evaluation"
      ]
    },
    {
      "cell_type": "code",
      "execution_count": 21,
      "id": "46af3d97",
      "metadata": {
        "id": "46af3d97"
      },
      "outputs": [],
      "source": [
        "import matplotlib.pyplot as plt\n",
        "from sklearn.metrics import accuracy_score\n",
        "from copy import deepcopy\n",
        "\n",
        "def train_and_evaluate():\n",
        "    model = BiLSTMModel(FEATURE_DIM, NUM_CLASSES).to(device)\n",
        "\n",
        "\n",
        "    criterion = nn.CrossEntropyLoss(weight=weights)\n",
        "    optimizer = torch.optim.Adam(model.parameters(), lr=1e-4, weight_decay=1e-5)\n",
        "\n",
        "    best_model_state = None\n",
        "    best_test_acc = 0\n",
        "    early_stopper = EarlyStopping(patience=15, min_delta=0.001)\n",
        "\n",
        "    dataset = SleepDataset(DATA_DIR, label_map, 8000)\n",
        "    train_size = int(0.8 * len(dataset))\n",
        "    test_size = len(dataset) - train_size\n",
        "    train_set, test_set = random_split(dataset, [train_size, test_size])\n",
        "    train_loader = DataLoader(train_set, batch_size=BATCH_SIZE, shuffle=True)\n",
        "    test_loader = DataLoader(test_set, batch_size=BATCH_SIZE)\n",
        "\n",
        "    train_losses, test_losses = [], []\n",
        "    train_accuracies, test_accuracies = [], []\n",
        "\n",
        "    for epoch in range(NUM_EPOCHS):\n",
        "        model.train()\n",
        "        total_loss = 0\n",
        "        all_preds, all_labels = [], []\n",
        "\n",
        "        for xb, yb in train_loader:\n",
        "            xb, yb = xb.to(device), yb.to(device)\n",
        "            preds = model(xb)\n",
        "            loss = criterion(preds, yb)\n",
        "            optimizer.zero_grad()\n",
        "            loss.backward()\n",
        "            torch.nn.utils.clip_grad_norm_(model.parameters(), max_norm=1.0)  # 🔒 Clip grads\n",
        "            optimizer.step()\n",
        "            total_loss += loss.item()\n",
        "            all_preds.extend(preds.argmax(dim=1).cpu().numpy())\n",
        "            all_labels.extend(yb.cpu().numpy())\n",
        "\n",
        "        train_acc = accuracy_score(all_labels, all_preds)\n",
        "        train_losses.append(total_loss)\n",
        "        train_accuracies.append(train_acc)\n",
        "\n",
        "        # --- Eval\n",
        "        model.eval()\n",
        "        test_loss = 0\n",
        "        all_preds, all_labels = [], []\n",
        "        with torch.no_grad():\n",
        "            for xb, yb in test_loader:\n",
        "                xb, yb = xb.to(device), yb.to(device)\n",
        "                preds = model(xb)\n",
        "                loss = criterion(preds, yb)\n",
        "                test_loss += loss.item()\n",
        "                all_preds.extend(preds.argmax(dim=1).cpu().numpy())\n",
        "                all_labels.extend(yb.cpu().numpy())\n",
        "\n",
        "        test_acc = accuracy_score(all_labels, all_preds)\n",
        "        test_losses.append(test_loss)\n",
        "        test_accuracies.append(test_acc)\n",
        "\n",
        "        print(f\"Epoch {epoch+1}/{NUM_EPOCHS} | \"\n",
        "              f\"Train Loss: {total_loss:.4f}, Acc: {train_acc:.4f} | \"\n",
        "              f\"Test Loss: {test_loss:.4f}, Acc: {test_acc:.4f}\")\n",
        "\n",
        "        # --- Early stopping check\n",
        "        early_stopper(1 - test_acc)\n",
        "        if test_acc > best_test_acc:\n",
        "            best_test_acc = test_acc\n",
        "            best_model_state = deepcopy(model.state_dict())\n",
        "\n",
        "        if early_stopper.early_stop:\n",
        "            print(\"⏹️ Early stopping triggered.\")\n",
        "            break\n",
        "\n",
        "        # Load the best model (important before final evaluation)\n",
        "    model.load_state_dict(best_model_state)\n",
        "    model.eval()\n",
        "\n",
        "    # --- Evaluate again on test set for final plots ---\n",
        "    test_preds, test_labels = [], []\n",
        "\n",
        "    with torch.no_grad():\n",
        "        for xb, yb in test_loader:\n",
        "            xb, yb = xb.to(device), yb.to(device)\n",
        "            preds = model(xb)\n",
        "            test_preds.extend(preds.argmax(dim=1).cpu().numpy())\n",
        "            test_labels.extend(yb.cpu().numpy())\n",
        "\n",
        "    # --- Final Test Accuracy ---\n",
        "    final_test_acc = accuracy_score(test_labels, test_preds)\n",
        "    print(f\"✅ Final Test Accuracy after reloading best model: {final_test_acc:.4f}\")\n",
        "\n",
        "    # --- Generate Plots ---\n",
        "    import seaborn as sns\n",
        "    from sklearn.metrics import confusion_matrix, classification_report\n",
        "\n",
        "    epochs = range(1, len(train_losses) + 1)\n",
        "    plt.figure(figsize=(18, 5))\n",
        "\n",
        "    # 1. Loss Curves\n",
        "    plt.subplot(1, 4, 1)\n",
        "    plt.plot(epochs, train_losses, label=\"Train Loss\", color='red')\n",
        "    plt.plot(epochs, test_losses, label=\"Test Loss\", color='orange')\n",
        "    plt.xlabel(\"Epoch\")\n",
        "    plt.ylabel(\"Loss\")\n",
        "    plt.title(\"Loss Over Epochs\")\n",
        "    plt.legend()\n",
        "\n",
        "    # 2. Accuracy Curves\n",
        "    plt.subplot(1, 4, 2)\n",
        "    plt.plot(epochs, train_accuracies, label=\"Train Accuracy\", color='blue')\n",
        "    plt.plot(epochs, test_accuracies, label=\"Test Accuracy\", color='green')\n",
        "    plt.xlabel(\"Epoch\")\n",
        "    plt.ylabel(\"Accuracy\")\n",
        "    plt.title(\"Accuracy Over Epochs\")\n",
        "    plt.legend()\n",
        "\n",
        "    # 3. Confusion Matrix\n",
        "    cm = confusion_matrix(test_labels, test_preds)\n",
        "    num_classes = cm.shape[0]\n",
        "\n",
        "    plt.subplot(1, 4, 3)\n",
        "    sns.heatmap(cm, annot=True, fmt='d', cmap='Blues',\n",
        "                xticklabels=range(num_classes),\n",
        "                yticklabels=range(num_classes))\n",
        "    plt.xlabel('Predicted Label')\n",
        "    plt.ylabel('True Label')\n",
        "    plt.title('Confusion Matrix')\n",
        "\n",
        "    # 4. F1-score per class\n",
        "    report = classification_report(test_labels, test_preds, digits=4, output_dict=True)\n",
        "    classes = list(report.keys())[:-3]  # Remove avg metrics like 'macro avg'\n",
        "\n",
        "    f1_scores = [report[cls]['f1-score'] for cls in classes]\n",
        "\n",
        "    plt.subplot(1, 4, 4)\n",
        "    plt.bar(classes, f1_scores, color='purple')\n",
        "    plt.xlabel(\"Classes\")\n",
        "    plt.ylabel(\"F1-Score\")\n",
        "    plt.title(\"F1-Score Per Class\")\n",
        "    plt.xticks(rotation=45)\n",
        "\n",
        "    # --- Show all 4 plots together ---\n",
        "    plt.tight_layout()\n",
        "    plt.show()"
      ]
    },
    {
      "cell_type": "code",
      "execution_count": 22,
      "id": "7cbebab7",
      "metadata": {
        "colab": {
          "base_uri": "https://localhost:8080/",
          "height": 813
        },
        "id": "7cbebab7",
        "outputId": "1c432bb3-866d-4942-efa9-132899449664"
      },
      "outputs": [
        {
          "name": "stdout",
          "output_type": "stream",
          "text": [
            "Epoch 1/20 | Train Loss: 4.9642, Acc: 0.5349 | Test Loss: 1.3712, Acc: 0.7037\n",
            "Epoch 2/20 | Train Loss: 4.8333, Acc: 0.6651 | Test Loss: 1.3579, Acc: 0.7037\n",
            "Epoch 3/20 | Train Loss: 4.7651, Acc: 0.6651 | Test Loss: 1.3414, Acc: 0.6852\n",
            "Epoch 4/20 | Train Loss: 4.7948, Acc: 0.6186 | Test Loss: 1.3396, Acc: 0.6481\n",
            "Epoch 5/20 | Train Loss: 4.5437, Acc: 0.6744 | Test Loss: 1.3326, Acc: 0.6481\n",
            "Epoch 6/20 | Train Loss: 4.5721, Acc: 0.6791 | Test Loss: 1.3257, Acc: 0.6481\n",
            "Epoch 7/20 | Train Loss: 4.4096, Acc: 0.7302 | Test Loss: 1.3152, Acc: 0.7037\n",
            "Epoch 8/20 | Train Loss: 4.2541, Acc: 0.7674 | Test Loss: 1.3009, Acc: 0.7222\n",
            "Epoch 9/20 | Train Loss: 4.2082, Acc: 0.6884 | Test Loss: 1.2872, Acc: 0.7037\n",
            "Epoch 10/20 | Train Loss: 4.2432, Acc: 0.7209 | Test Loss: 1.2848, Acc: 0.7037\n",
            "Epoch 11/20 | Train Loss: 4.1957, Acc: 0.7302 | Test Loss: 1.2737, Acc: 0.6852\n",
            "Epoch 12/20 | Train Loss: 4.0644, Acc: 0.7442 | Test Loss: 1.2603, Acc: 0.6667\n",
            "Epoch 13/20 | Train Loss: 4.0655, Acc: 0.7907 | Test Loss: 1.2487, Acc: 0.6667\n",
            "Epoch 14/20 | Train Loss: 3.9223, Acc: 0.7488 | Test Loss: 1.2296, Acc: 0.6296\n",
            "Epoch 15/20 | Train Loss: 3.8457, Acc: 0.7488 | Test Loss: 1.2340, Acc: 0.7222\n",
            "Epoch 16/20 | Train Loss: 3.6490, Acc: 0.8047 | Test Loss: 1.2250, Acc: 0.6852\n",
            "Epoch 17/20 | Train Loss: 3.5475, Acc: 0.8000 | Test Loss: 1.2001, Acc: 0.6667\n",
            "Epoch 18/20 | Train Loss: 3.5134, Acc: 0.7767 | Test Loss: 1.1930, Acc: 0.6852\n",
            "Epoch 19/20 | Train Loss: 3.3253, Acc: 0.8512 | Test Loss: 1.2127, Acc: 0.7407\n",
            "Epoch 20/20 | Train Loss: 3.3765, Acc: 0.8326 | Test Loss: 1.1850, Acc: 0.7222\n",
            "✅ Final Test Accuracy after reloading best model: 0.7407\n"
          ]
        },
        {
          "data": {
            "image/png": "[encoded data removed]",
            "text/plain": [
              "<Figure size 1800x500 with 5 Axes>"
            ]
          },
          "metadata": {},
          "output_type": "display_data"
        }
      ],
      "source": [
        "# Run the training\n",
        "if __name__ == \"__main__\":\n",
        "    train_and_evaluate()"
      ]
    },
    {
      "cell_type": "code",
      "execution_count": null,
      "id": "FEX_v16Igqfp",
      "metadata": {
        "id": "FEX_v16Igqfp"
      },
      "outputs": [],
      "source": []
    }
  ],
  "metadata": {
    "accelerator": "GPU",
    "colab": {
      "gpuType": "T4",
      "provenance": []
    },
    "kernelspec": {
      "display_name": "Python 3",
      "name": "python3"
    },
    "language_info": {
      "codemirror_mode": {
        "name": "ipython",
        "version": 3
      },
      "file_extension": ".py",
      "mimetype": "text/x-python",
      "name": "python",
      "nbconvert_exporter": "python",
      "pygments_lexer": "ipython3",
      "version": "3.12.4"
    }
  },
  "nbformat": 4,
  "nbformat_minor": 5
}
