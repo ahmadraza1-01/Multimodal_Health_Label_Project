{
  "cells": [
    {
      "cell_type": "code",
      "execution_count": 1,
      "metadata": {
        "colab": {
          "base_uri": "https://localhost:8080/"
        },
        "id": "Yg0J33yxojf1",
        "outputId": "4cdd0237-c7c3-42b0-c8f7-7a07fe452100"
      },
      "outputs": [
        {
          "name": "stdout",
          "output_type": "stream",
          "text": [
            "Mounted at /content/drive\n"
          ]
        }
      ],
      "source": [
        "from google.colab import drive\n",
        "import os\n",
        "\n",
        "# Mount Google Drive\n",
        "drive.mount('/content/drive')"
      ]
    },
    {
      "cell_type": "code",
      "execution_count": null,
      "metadata": {
        "colab": {
          "base_uri": "https://localhost:8080/"
        },
        "collapsed": true,
        "id": "es4uogKCoo4C",
        "outputId": "a11d1f94-a652-4cd7-9100-2adb950d9c72"
      },
      "outputs": [
        {
          "name": "stdout",
          "output_type": "stream",
          "text": [
            "Requirement already satisfied: torch in /usr/local/lib/python3.11/dist-packages (2.6.0+cu124)\n",
            "Requirement already satisfied: filelock in /usr/local/lib/python3.11/dist-packages (from torch) (3.18.0)\n",
            "Requirement already satisfied: typing-extensions>=4.10.0 in /usr/local/lib/python3.11/dist-packages (from torch) (4.13.2)\n",
            "Requirement already satisfied: networkx in /usr/local/lib/python3.11/dist-packages (from torch) (3.4.2)\n",
            "Requirement already satisfied: jinja2 in /usr/local/lib/python3.11/dist-packages (from torch) (3.1.6)\n",
            "Requirement already satisfied: fsspec in /usr/local/lib/python3.11/dist-packages (from torch) (2025.3.2)\n",
            "Collecting nvidia-cuda-nvrtc-cu12==12.4.127 (from torch)\n",
            "  Downloading nvidia_cuda_nvrtc_cu12-12.4.127-py3-none-manylinux2014_x86_64.whl.metadata (1.5 kB)\n",
            "Collecting nvidia-cuda-runtime-cu12==12.4.127 (from torch)\n",
            "  Downloading nvidia_cuda_runtime_cu12-12.4.127-py3-none-manylinux2014_x86_64.whl.metadata (1.5 kB)\n",
            "Collecting nvidia-cuda-cupti-cu12==12.4.127 (from torch)\n",
            "  Downloading nvidia_cuda_cupti_cu12-12.4.127-py3-none-manylinux2014_x86_64.whl.metadata (1.6 kB)\n",
            "Collecting nvidia-cudnn-cu12==9.1.0.70 (from torch)\n",
            "  Downloading nvidia_cudnn_cu12-9.1.0.70-py3-none-manylinux2014_x86_64.whl.metadata (1.6 kB)\n",
            "Collecting nvidia-cublas-cu12==12.4.5.8 (from torch)\n",
            "  Downloading nvidia_cublas_cu12-12.4.5.8-py3-none-manylinux2014_x86_64.whl.metadata (1.5 kB)\n",
            "Collecting nvidia-cufft-cu12==11.2.1.3 (from torch)\n",
            "  Downloading nvidia_cufft_cu12-11.2.1.3-py3-none-manylinux2014_x86_64.whl.metadata (1.5 kB)\n",
            "Collecting nvidia-curand-cu12==10.3.5.147 (from torch)\n",
            "  Downloading nvidia_curand_cu12-10.3.5.147-py3-none-manylinux2014_x86_64.whl.metadata (1.5 kB)\n",
            "Collecting nvidia-cusolver-cu12==11.6.1.9 (from torch)\n",
            "  Downloading nvidia_cusolver_cu12-11.6.1.9-py3-none-manylinux2014_x86_64.whl.metadata (1.6 kB)\n",
            "Collecting nvidia-cusparse-cu12==12.3.1.170 (from torch)\n",
            "  Downloading nvidia_cusparse_cu12-12.3.1.170-py3-none-manylinux2014_x86_64.whl.metadata (1.6 kB)\n",
            "Requirement already satisfied: nvidia-cusparselt-cu12==0.6.2 in /usr/local/lib/python3.11/dist-packages (from torch) (0.6.2)\n",
            "Requirement already satisfied: nvidia-nccl-cu12==2.21.5 in /usr/local/lib/python3.11/dist-packages (from torch) (2.21.5)\n",
            "Requirement already satisfied: nvidia-nvtx-cu12==12.4.127 in /usr/local/lib/python3.11/dist-packages (from torch) (12.4.127)\n",
            "Collecting nvidia-nvjitlink-cu12==12.4.127 (from torch)\n",
            "  Downloading nvidia_nvjitlink_cu12-12.4.127-py3-none-manylinux2014_x86_64.whl.metadata (1.5 kB)\n",
            "Requirement already satisfied: triton==3.2.0 in /usr/local/lib/python3.11/dist-packages (from torch) (3.2.0)\n",
            "Requirement already satisfied: sympy==1.13.1 in /usr/local/lib/python3.11/dist-packages (from torch) (1.13.1)\n",
            "Requirement already satisfied: mpmath<1.4,>=1.1.0 in /usr/local/lib/python3.11/dist-packages (from sympy==1.13.1->torch) (1.3.0)\n",
            "Requirement already satisfied: MarkupSafe>=2.0 in /usr/local/lib/python3.11/dist-packages (from jinja2->torch) (3.0.2)\n",
            "Downloading nvidia_cublas_cu12-12.4.5.8-py3-none-manylinux2014_x86_64.whl (363.4 MB)\n",
            "\u001b[2K   \u001b[90m━━━━━━━━━━━━━━━━━━━━━━━━━━━━━━━━━━━━━━━━\u001b[0m \u001b[32m363.4/363.4 MB\u001b[0m \u001b[31m1.4 MB/s\u001b[0m eta \u001b[36m0:00:00\u001b[0m\n",
            "\u001b[?25hDownloading nvidia_cuda_cupti_cu12-12.4.127-py3-none-manylinux2014_x86_64.whl (13.8 MB)\n",
            "\u001b[2K   \u001b[90m━━━━━━━━━━━━━━━━━━━━━━━━━━━━━━━━━━━━━━━━\u001b[0m \u001b[32m13.8/13.8 MB\u001b[0m \u001b[31m13.1 MB/s\u001b[0m eta \u001b[36m0:00:00\u001b[0m\n",
            "\u001b[?25hDownloading nvidia_cuda_nvrtc_cu12-12.4.127-py3-none-manylinux2014_x86_64.whl (24.6 MB)\n",
            "\u001b[2K   \u001b[90m━━━━━━━━━━━━━━━━━━━━━━━━━━━━━━━━━━━━━━━━\u001b[0m \u001b[32m24.6/24.6 MB\u001b[0m \u001b[31m12.0 MB/s\u001b[0m eta \u001b[36m0:00:00\u001b[0m\n",
            "\u001b[?25hDownloading nvidia_cuda_runtime_cu12-12.4.127-py3-none-manylinux2014_x86_64.whl (883 kB)\n",
            "\u001b[2K   \u001b[90m━━━━━━━━━━━━━━━━━━━━━━━━━━━━━━━━━━━━━━━━\u001b[0m \u001b[32m883.7/883.7 kB\u001b[0m \u001b[31m20.5 MB/s\u001b[0m eta \u001b[36m0:00:00\u001b[0m\n",
            "\u001b[?25hDownloading nvidia_cudnn_cu12-9.1.0.70-py3-none-manylinux2014_x86_64.whl (664.8 MB)\n",
            "\u001b[2K   \u001b[90m━━━━━━━━━━━━━━━━━━━━━━━━━━━━━━━━━━━━━━━━\u001b[0m \u001b[32m664.8/664.8 MB\u001b[0m \u001b[31m2.5 MB/s\u001b[0m eta \u001b[36m0:00:00\u001b[0m\n",
            "\u001b[?25hDownloading nvidia_cufft_cu12-11.2.1.3-py3-none-manylinux2014_x86_64.whl (211.5 MB)\n",
            "\u001b[2K   \u001b[90m━━━━━━━━━━━━━━━━━━━━━━━━━━━━━━━━━━━━━━━━\u001b[0m \u001b[32m211.5/211.5 MB\u001b[0m \u001b[31m6.2 MB/s\u001b[0m eta \u001b[36m0:00:00\u001b[0m\n",
            "\u001b[?25hDownloading nvidia_curand_cu12-10.3.5.147-py3-none-manylinux2014_x86_64.whl (56.3 MB)\n",
            "\u001b[2K   \u001b[90m━━━━━━━━━━━━━━━━━━━━━━━━━━━━━━━━━━━━━━━━\u001b[0m \u001b[32m56.3/56.3 MB\u001b[0m \u001b[31m12.7 MB/s\u001b[0m eta \u001b[36m0:00:00\u001b[0m\n",
            "\u001b[?25hDownloading nvidia_cusolver_cu12-11.6.1.9-py3-none-manylinux2014_x86_64.whl (127.9 MB)\n",
            "\u001b[2K   \u001b[90m━━━━━━━━━━━━━━━━━━━━━━━━━━━━━━━━━━━━━━━━\u001b[0m \u001b[32m127.9/127.9 MB\u001b[0m \u001b[31m6.3 MB/s\u001b[0m eta \u001b[36m0:00:00\u001b[0m\n",
            "\u001b[?25hDownloading nvidia_cusparse_cu12-12.3.1.170-py3-none-manylinux2014_x86_64.whl (207.5 MB)\n",
            "\u001b[2K   \u001b[90m━━━━━━━━━━━━━━━━━━━━━━━━━━━━━━━━━━━━━━━━\u001b[0m \u001b[32m207.5/207.5 MB\u001b[0m \u001b[31m7.7 MB/s\u001b[0m eta \u001b[36m0:00:00\u001b[0m\n",
            "\u001b[?25hDownloading nvidia_nvjitlink_cu12-12.4.127-py3-none-manylinux2014_x86_64.whl (21.1 MB)\n",
            "\u001b[2K   \u001b[90m━━━━━━━━━━━━━━━━━━━━━━━━━━━━━━━━━━━━━━━━\u001b[0m \u001b[32m21.1/21.1 MB\u001b[0m \u001b[31m91.5 MB/s\u001b[0m eta \u001b[36m0:00:00\u001b[0m\n",
            "\u001b[?25hInstalling collected packages: nvidia-nvjitlink-cu12, nvidia-curand-cu12, nvidia-cufft-cu12, nvidia-cuda-runtime-cu12, nvidia-cuda-nvrtc-cu12, nvidia-cuda-cupti-cu12, nvidia-cublas-cu12, nvidia-cusparse-cu12, nvidia-cudnn-cu12, nvidia-cusolver-cu12\n",
            "  Attempting uninstall: nvidia-nvjitlink-cu12\n",
            "    Found existing installation: nvidia-nvjitlink-cu12 12.5.82\n",
            "    Uninstalling nvidia-nvjitlink-cu12-12.5.82:\n",
            "      Successfully uninstalled nvidia-nvjitlink-cu12-12.5.82\n",
            "  Attempting uninstall: nvidia-curand-cu12\n",
            "    Found existing installation: nvidia-curand-cu12 10.3.6.82\n",
            "    Uninstalling nvidia-curand-cu12-10.3.6.82:\n",
            "      Successfully uninstalled nvidia-curand-cu12-10.3.6.82\n",
            "  Attempting uninstall: nvidia-cufft-cu12\n",
            "    Found existing installation: nvidia-cufft-cu12 11.2.3.61\n",
            "    Uninstalling nvidia-cufft-cu12-11.2.3.61:\n",
            "      Successfully uninstalled nvidia-cufft-cu12-11.2.3.61\n",
            "  Attempting uninstall: nvidia-cuda-runtime-cu12\n",
            "    Found existing installation: nvidia-cuda-runtime-cu12 12.5.82\n",
            "    Uninstalling nvidia-cuda-runtime-cu12-12.5.82:\n",
            "      Successfully uninstalled nvidia-cuda-runtime-cu12-12.5.82\n",
            "  Attempting uninstall: nvidia-cuda-nvrtc-cu12\n",
            "    Found existing installation: nvidia-cuda-nvrtc-cu12 12.5.82\n",
            "    Uninstalling nvidia-cuda-nvrtc-cu12-12.5.82:\n",
            "      Successfully uninstalled nvidia-cuda-nvrtc-cu12-12.5.82\n",
            "  Attempting uninstall: nvidia-cuda-cupti-cu12\n",
            "    Found existing installation: nvidia-cuda-cupti-cu12 12.5.82\n",
            "    Uninstalling nvidia-cuda-cupti-cu12-12.5.82:\n",
            "      Successfully uninstalled nvidia-cuda-cupti-cu12-12.5.82\n",
            "  Attempting uninstall: nvidia-cublas-cu12\n",
            "    Found existing installation: nvidia-cublas-cu12 12.5.3.2\n",
            "    Uninstalling nvidia-cublas-cu12-12.5.3.2:\n",
            "      Successfully uninstalled nvidia-cublas-cu12-12.5.3.2\n",
            "  Attempting uninstall: nvidia-cusparse-cu12\n",
            "    Found existing installation: nvidia-cusparse-cu12 12.5.1.3\n",
            "    Uninstalling nvidia-cusparse-cu12-12.5.1.3:\n",
            "      Successfully uninstalled nvidia-cusparse-cu12-12.5.1.3\n",
            "  Attempting uninstall: nvidia-cudnn-cu12\n",
            "    Found existing installation: nvidia-cudnn-cu12 9.3.0.75\n",
            "    Uninstalling nvidia-cudnn-cu12-9.3.0.75:\n",
            "      Successfully uninstalled nvidia-cudnn-cu12-9.3.0.75\n",
            "  Attempting uninstall: nvidia-cusolver-cu12\n",
            "    Found existing installation: nvidia-cusolver-cu12 11.6.3.83\n",
            "    Uninstalling nvidia-cusolver-cu12-11.6.3.83:\n",
            "      Successfully uninstalled nvidia-cusolver-cu12-11.6.3.83\n",
            "Successfully installed nvidia-cublas-cu12-12.4.5.8 nvidia-cuda-cupti-cu12-12.4.127 nvidia-cuda-nvrtc-cu12-12.4.127 nvidia-cuda-runtime-cu12-12.4.127 nvidia-cudnn-cu12-9.1.0.70 nvidia-cufft-cu12-11.2.1.3 nvidia-curand-cu12-10.3.5.147 nvidia-cusolver-cu12-11.6.1.9 nvidia-cusparse-cu12-12.3.1.170 nvidia-nvjitlink-cu12-12.4.127\n"
          ]
        }
      ],
      "source": [
        "pip install torch"
      ]
    },
    {
      "cell_type": "code",
      "execution_count": 1,
      "metadata": {
        "colab": {
          "base_uri": "https://localhost:8080/"
        },
        "id": "Lti6pdBbozvT",
        "outputId": "cea6d1a3-c7c9-4baa-e99e-50807bf04f18"
      },
      "outputs": [
        {
          "name": "stdout",
          "output_type": "stream",
          "text": [
            "Using device: cpu\n"
          ]
        }
      ],
      "source": [
        "import pandas as pd\n",
        "import numpy as np\n",
        "from sklearn.model_selection import train_test_split\n",
        "from sklearn.preprocessing import StandardScaler\n",
        "from sklearn.metrics import accuracy_score\n",
        "import torch\n",
        "from torch import nn\n",
        "from torch.utils.data import Dataset, DataLoader\n",
        "from torch.utils.data import random_split\n",
        "import os\n",
        "\n",
        "device = torch.device(\"cuda\" if torch.cuda.is_available() else \"cpu\")\n",
        "print(\"Using device:\", device)"
      ]
    },
    {
      "cell_type": "code",
      "execution_count": 12,
      "metadata": {
        "id": "IaXopakUo4sr"
      },
      "outputs": [],
      "source": [
        "# CONFIG\n",
        "FEATURE_DIM = 200  # 100 MFCC + 100 eGeMAPS\n",
        "BATCH_SIZE = 32\n",
        "NUM_EPOCHS = 20\n",
        "LEARNING_RATE = 0.001\n",
        "NUM_CLASSES = 2   # or 2 if binary classification\n",
        "# DATA_DIR = r\"/content/drive/MyDrive/CGS616_project_data/Audio_model(all Audio related files)/BoAW_combined_no_timestamp(train-test data)\" #access concatenated datasets\n",
        "# LABEL_FILE = r\"/content/drive/MyDrive/CGS616_project_data/final_merged_labels.csv\"\n",
        "DATA_DIR = r\"C:\\Users\\ASUS\\Downloads\\BoAW_combined-20250427T130943Z-001\\BoAW_combined\" #access concatenated datasets\n",
        "LABEL_FILE = r\"C:\\Users\\ASUS\\Downloads\\Dep.csv\""
      ]
    },
    {
      "cell_type": "code",
      "execution_count": 3,
      "metadata": {
        "id": "ZzzJJckypo3S"
      },
      "outputs": [],
      "source": [
        "MAX_TIMESTEPS = 10000"
      ]
    },
    {
      "cell_type": "code",
      "execution_count": 14,
      "metadata": {
        "id": "rwKx0Iakpp-z"
      },
      "outputs": [],
      "source": [
        "# Load labels\n",
        "label_df = pd.read_csv(LABEL_FILE)\n",
        "label_map = {str(row['Participant']): row['Depression_label'] for _, row in label_df.iterrows()}"
      ]
    },
    {
      "cell_type": "markdown",
      "metadata": {
        "id": "MZ7x1Ao8ANMf"
      },
      "source": []
    },
    {
      "cell_type": "code",
      "execution_count": 15,
      "metadata": {
        "id": "Tbpph4mPqGMa"
      },
      "outputs": [],
      "source": [
        "class SleepDataset(Dataset):\n",
        "    def __init__(self, file_paths, label_map, max_len):\n",
        "        self.paths = sorted(file_paths)  # Already a list, no need for os.listdir\n",
        "        self.label_map = label_map\n",
        "        self.max_len = max_len\n",
        "\n",
        "    def __len__(self):\n",
        "        return len(self.paths)\n",
        "\n",
        "    def __getitem__(self, idx):\n",
        "        df = pd.read_csv(self.paths[idx])\n",
        "        data = df.iloc[:, 0:].values  # Skip timestamp column\n",
        "        data = data[:self.max_len]\n",
        "        if len(data) < self.max_len:\n",
        "            pad_width = self.max_len - len(data)\n",
        "            data = np.pad(data, ((0, pad_width), (0, 0)), mode='constant')\n",
        "        data = StandardScaler().fit_transform(data)\n",
        "\n",
        "        label_name = os.path.basename(self.paths[idx]).split('_')[0]  # Example: \"0_participant1.csv\"\n",
        "        label = self.label_map[label_name]\n",
        "        return torch.tensor(data, dtype=torch.float32), torch.tensor(label, dtype=torch.long)\n"
      ]
    },
    {
      "cell_type": "code",
      "execution_count": 16,
      "metadata": {
        "id": "zcflvVTLqJ0t"
      },
      "outputs": [],
      "source": [
        "import torch.nn as nn\n",
        "import torch\n",
        "\n",
        "import torch\n",
        "\n",
        "class CNN_BiLSTM_Attention(nn.Module):\n",
        "    def __init__(self, input_dim, output_dim):\n",
        "        super().__init__()\n",
        "\n",
        "        # 1D CNN to compress features\n",
        "        self.cnn = nn.Sequential(\n",
        "            nn.Conv1d(input_dim, 128, kernel_size=5, padding=2),\n",
        "            nn.ReLU(),\n",
        "            nn.BatchNorm1d(128),\n",
        "            nn.Dropout(0.3)\n",
        "        )\n",
        "\n",
        "        # BiLSTM to capture temporal patterns\n",
        "        self.lstm = nn.LSTM(128, 128, batch_first=True, bidirectional=True, dropout=0.3)\n",
        "\n",
        "        # Self-Attention Layer\n",
        "        self.attention = nn.Linear(256, 1)  # Learn attention scores per timestep\n",
        "\n",
        "        self.norm = nn.LayerNorm(256)\n",
        "        self.dropout = nn.Dropout(0.5)\n",
        "\n",
        "        self.fc1 = nn.Linear(256, 64)\n",
        "        self.fc2 = nn.Linear(64, output_dim)\n",
        "\n",
        "    def forward(self, x):\n",
        "        # x: [batch, seq_len, input_dim]\n",
        "\n",
        "        x = x.transpose(1, 2)             # [batch, input_dim, seq_len] for CNN\n",
        "        x = self.cnn(x)                   # [batch, 128, seq_len]\n",
        "\n",
        "        x = x.transpose(1, 2)              # [batch, seq_len, 128] for LSTM\n",
        "        x, _ = self.lstm(x)                # [batch, seq_len, 256]\n",
        "\n",
        "        # ---- Attention ----\n",
        "        attn_weights = torch.softmax(self.attention(x), dim=1)  # [batch, seq_len, 1]\n",
        "        x = (x * attn_weights).sum(dim=1)                       # Weighted sum → [batch, 256]\n",
        "\n",
        "        x = self.norm(x)\n",
        "        x = torch.relu(self.fc1(x))        # [batch, 64]\n",
        "        x = self.dropout(x)\n",
        "        return self.fc2(x)                 # [batch, output_dim]\n"
      ]
    },
    {
      "cell_type": "code",
      "execution_count": 17,
      "metadata": {
        "id": "dqk5g_VlqM3N"
      },
      "outputs": [],
      "source": [
        "class EarlyStopping:\n",
        "    def __init__(self, patience=10, min_delta=0.0005):\n",
        "        self.patience = patience\n",
        "        self.min_delta = min_delta\n",
        "        self.counter = 0\n",
        "        self.best_loss = float('inf')\n",
        "        self.early_stop = False\n",
        "\n",
        "    def __call__(self, val_loss):\n",
        "        if val_loss < self.best_loss - self.min_delta:\n",
        "            self.best_loss = val_loss\n",
        "            self.counter = 0\n",
        "        else:\n",
        "            self.counter += 1\n",
        "            if self.counter >= self.patience:\n",
        "                self.early_stop = True\n"
      ]
    },
    {
      "cell_type": "code",
      "execution_count": 18,
      "metadata": {
        "id": "e7Tua0L9xNV4"
      },
      "outputs": [],
      "source": [
        "test_participant_ids = {\n",
        "    \"600\", \"602\", \"604\", \"605\", \"606\", \"607\", \"609\", \"615\", \"618\", \"619\", \"620\", \"622\", \"623\", \"624\",\n",
        "    \"625\", \"626\", \"629\", \"631\", \"634\", \"635\", \"636\", \"637\", \"638\", \"640\", \"649\", \"650\", \"651\", \"652\",\n",
        "    \"655\", \"656\", \"658\", \"659\", \"661\", \"663\", \"664\", \"666\", \"669\", \"676\", \"679\", \"682\", \"683\", \"688\",\n",
        "    \"689\", \"691\", \"693\", \"696\", \"699\", \"705\", \"708\", \"709\", \"710\", \"712\", \"715\", \"716\", \"717\", \"718\"\n",
        "}\n",
        "\n",
        "\n",
        "def split_dataset_by_participant_id(data_dir, test_ids):\n",
        "    all_files = [os.path.join(data_dir, f) for f in os.listdir(data_dir) if f.endswith(\".csv\")]\n",
        "    test_files = [f for f in all_files if os.path.basename(f).split('_')[0] in test_ids]\n",
        "    train_dev_files = [f for f in all_files if os.path.basename(f).split('_')[0] not in test_ids]\n",
        "    return train_dev_files, test_files"
      ]
    },
    {
      "cell_type": "code",
      "execution_count": 19,
      "metadata": {
        "colab": {
          "base_uri": "https://localhost:8080/",
          "height": 423
        },
        "id": "lQkhWIjoAtHY",
        "outputId": "19aabd49-1605-4694-b4cc-471f170286df"
      },
      "outputs": [
        {
          "data": {
            "text/html": [
              "<div>\n",
              "<style scoped>\n",
              "    .dataframe tbody tr th:only-of-type {\n",
              "        vertical-align: middle;\n",
              "    }\n",
              "\n",
              "    .dataframe tbody tr th {\n",
              "        vertical-align: top;\n",
              "    }\n",
              "\n",
              "    .dataframe thead th {\n",
              "        text-align: right;\n",
              "    }\n",
              "</style>\n",
              "<table border=\"1\" class=\"dataframe\">\n",
              "  <thead>\n",
              "    <tr style=\"text-align: right;\">\n",
              "      <th></th>\n",
              "      <th>ID</th>\n",
              "      <th>Depression_label</th>\n",
              "    </tr>\n",
              "  </thead>\n",
              "  <tbody>\n",
              "    <tr>\n",
              "      <th>0</th>\n",
              "      <td>300</td>\n",
              "      <td>0</td>\n",
              "    </tr>\n",
              "    <tr>\n",
              "      <th>1</th>\n",
              "      <td>301</td>\n",
              "      <td>0</td>\n",
              "    </tr>\n",
              "    <tr>\n",
              "      <th>2</th>\n",
              "      <td>302</td>\n",
              "      <td>0</td>\n",
              "    </tr>\n",
              "    <tr>\n",
              "      <th>3</th>\n",
              "      <td>303</td>\n",
              "      <td>0</td>\n",
              "    </tr>\n",
              "    <tr>\n",
              "      <th>4</th>\n",
              "      <td>304</td>\n",
              "      <td>0</td>\n",
              "    </tr>\n",
              "    <tr>\n",
              "      <th>...</th>\n",
              "      <td>...</td>\n",
              "      <td>...</td>\n",
              "    </tr>\n",
              "    <tr>\n",
              "      <th>214</th>\n",
              "      <td>698</td>\n",
              "      <td>1</td>\n",
              "    </tr>\n",
              "    <tr>\n",
              "      <th>215</th>\n",
              "      <td>702</td>\n",
              "      <td>0</td>\n",
              "    </tr>\n",
              "    <tr>\n",
              "      <th>216</th>\n",
              "      <td>703</td>\n",
              "      <td>0</td>\n",
              "    </tr>\n",
              "    <tr>\n",
              "      <th>217</th>\n",
              "      <td>707</td>\n",
              "      <td>0</td>\n",
              "    </tr>\n",
              "    <tr>\n",
              "      <th>218</th>\n",
              "      <td>713</td>\n",
              "      <td>0</td>\n",
              "    </tr>\n",
              "  </tbody>\n",
              "</table>\n",
              "<p>219 rows × 2 columns</p>\n",
              "</div>"
            ],
            "text/plain": [
              "      ID  Depression_label\n",
              "0    300                 0\n",
              "1    301                 0\n",
              "2    302                 0\n",
              "3    303                 0\n",
              "4    304                 0\n",
              "..   ...               ...\n",
              "214  698                 1\n",
              "215  702                 0\n",
              "216  703                 0\n",
              "217  707                 0\n",
              "218  713                 0\n",
              "\n",
              "[219 rows x 2 columns]"
            ]
          },
          "execution_count": 19,
          "metadata": {},
          "output_type": "execute_result"
        }
      ],
      "source": [
        "train_label_map = {k: v for k, v in label_map.items() if k not in test_participant_ids}\n",
        "train_label_df = pd.DataFrame(list(train_label_map.items()), columns=['ID', 'Depression_label'])\n",
        "train_label_df"
      ]
    },
    {
      "cell_type": "code",
      "execution_count": 22,
      "metadata": {
        "id": "59cPKyR6qPUq"
      },
      "outputs": [],
      "source": [
        "import os\n",
        "import numpy as np\n",
        "import pandas as pd\n",
        "from sklearn.preprocessing import StandardScaler\n",
        "from sklearn.metrics import accuracy_score, confusion_matrix, classification_report\n",
        "from torch.utils.data import Dataset, DataLoader\n",
        "from torch.utils.data import random_split\n",
        "import torch\n",
        "import torch.nn as nn\n",
        "import matplotlib.pyplot as plt\n",
        "import seaborn as sns\n",
        "from copy import deepcopy\n",
        "from collections import Counter\n",
        "\n",
        "def train_and_evaluate():\n",
        "    train_dev_files, test_files = split_dataset_by_participant_id(DATA_DIR, test_participant_ids)\n",
        "    full_train_dev_set = SleepDataset(train_dev_files, label_map, max_len=8000)\n",
        "    test_set = SleepDataset(test_files, label_map, max_len=8000)\n",
        "\n",
        "    train_size = int(0.8 * len(full_train_dev_set))\n",
        "    val_size = len(full_train_dev_set) - train_size\n",
        "    train_set, val_set = random_split(full_train_dev_set, [train_size, val_size])\n",
        "\n",
        "    train_loader = DataLoader(train_set, batch_size=BATCH_SIZE, shuffle=True)\n",
        "    val_loader = DataLoader(val_set, batch_size=BATCH_SIZE)\n",
        "    test_loader = DataLoader(test_set, batch_size=BATCH_SIZE)\n",
        "\n",
        "    model = CNN_BiLSTM_Attention(FEATURE_DIM, NUM_CLASSES).to(device)\n",
        "\n",
        "\n",
        "    # Suppose your labels are loaded properly\n",
        "    label_counts = Counter(train_label_df['Depression_label'])  # Only use the labels column\n",
        "    # Now compute inverse class weights\n",
        "    total = sum(label_counts.values())\n",
        "    class_weights = [total / label_counts[i] for i in range(len(label_counts))]\n",
        "    weights = torch.tensor(class_weights).to(device)\n",
        "\n",
        "    #define the loss\n",
        "    criterion = nn.CrossEntropyLoss(weight=weights)\n",
        "    optimizer = torch.optim.Adam(model.parameters(), lr=1e-4, weight_decay=1e-5)\n",
        "\n",
        "    early_stopper = EarlyStopping(patience=15, min_delta=0.001)\n",
        "\n",
        "    train_losses, val_losses, train_accuracies, val_accuracies = [], [], [], []\n",
        "    best_model_state = None\n",
        "    best_val_acc = 0\n",
        "\n",
        "    for epoch in range(NUM_EPOCHS):\n",
        "        model.train()\n",
        "        total_loss = 0\n",
        "        all_preds, all_labels = [], []\n",
        "\n",
        "        for xb, yb in train_loader:\n",
        "            xb, yb = xb.to(device), yb.to(device)\n",
        "            preds = model(xb)\n",
        "            loss = criterion(preds, yb)\n",
        "            optimizer.zero_grad()\n",
        "            loss.backward()\n",
        "            torch.nn.utils.clip_grad_norm_(model.parameters(), max_norm=1.0)\n",
        "            optimizer.step()\n",
        "            total_loss += loss.item()\n",
        "            all_preds.extend(preds.argmax(dim=1).cpu().numpy())\n",
        "            all_labels.extend(yb.cpu().numpy())\n",
        "\n",
        "        train_acc = accuracy_score(all_labels, all_preds)\n",
        "        train_losses.append(total_loss)\n",
        "        train_accuracies.append(train_acc)\n",
        "\n",
        "        # Validation\n",
        "        model.eval()\n",
        "        val_loss = 0\n",
        "        all_preds, all_labels = [], []\n",
        "        with torch.no_grad():\n",
        "            for xb, yb in val_loader:\n",
        "                xb, yb = xb.to(device), yb.to(device)\n",
        "                preds = model(xb)\n",
        "                loss = criterion(preds, yb)\n",
        "                val_loss += loss.item()\n",
        "                all_preds.extend(preds.argmax(dim=1).cpu().numpy())\n",
        "                all_labels.extend(yb.cpu().numpy())\n",
        "\n",
        "        val_acc = accuracy_score(all_labels, all_preds)\n",
        "        val_losses.append(val_loss)\n",
        "        val_accuracies.append(val_acc)\n",
        "\n",
        "\n",
        "        print(f\"Epoch {epoch+1}/{NUM_EPOCHS} | \"\n",
        "              f\"Train Loss: {total_loss:.4f}, Acc: {train_acc:.4f} | \"\n",
        "              f\"Val Loss: {val_loss:.4f}, Acc: {val_acc:.4f}\")\n",
        "\n",
        "        early_stopper(1 - val_acc)\n",
        "        if val_acc > best_val_acc:\n",
        "            best_val_acc = val_acc\n",
        "            best_model_state = deepcopy(model.state_dict())\n",
        "\n",
        "        if early_stopper.early_stop:\n",
        "            print(\"⏹️ Early stopping triggered.\")\n",
        "            break\n",
        "\n",
        "    # Load best model\n",
        "    model.load_state_dict(best_model_state)\n",
        "    model.eval()\n",
        "\n",
        "    # 🧪 Final Test Predictions + Probabilities\n",
        "    test_preds, test_labels = [], []\n",
        "    audio_prob_0_list, audio_prob_1_list = [], []\n",
        "    true_label_list, predicted_label_list = [], []\n",
        "\n",
        "    with torch.no_grad():\n",
        "        for xb, yb in test_loader:\n",
        "            xb, yb = xb.to(device), yb.to(device)\n",
        "            probs = torch.softmax(model(xb), dim=1)  # Get probabilities\n",
        "            preds = probs.argmax(dim=1)\n",
        "\n",
        "            test_preds.extend(preds.cpu().numpy())\n",
        "            test_labels.extend(yb.cpu().numpy())\n",
        "\n",
        "            audio_prob_0_list.extend(probs[:, 0].cpu().numpy())\n",
        "            audio_prob_1_list.extend(probs[:, 1].cpu().numpy())\n",
        "            true_label_list.extend(yb.cpu().numpy())\n",
        "            predicted_label_list.extend(preds.cpu().numpy())\n",
        "\n",
        "\n",
        "    final_test_acc = accuracy_score(test_labels, test_preds)\n",
        "    print(f\"✅ Final Test Accuracy: {final_test_acc:.4f}\")\n",
        "\n",
        "    # ✅ Save to Excel\n",
        "    df_probs = pd.DataFrame({\n",
        "        \"audio_prob_0\": audio_prob_0_list,\n",
        "        \"audio_prob_1\": audio_prob_1_list,\n",
        "        \"true_label\": true_label_list,\n",
        "        \"predicted_label\": predicted_label_list\n",
        "    })\n",
        "\n",
        "    df_probs.to_excel(\"audio_test_predictions.xlsx\", index=False)\n",
        "    print(\"📁 Saved audio prediction probabilities to 'audio_test_predictions.xlsx'\")\n",
        "\n",
        "    # 📊 Plots\n",
        "    epochs = range(1, len(train_losses) + 1)\n",
        "    plt.figure(figsize=(18, 5))\n",
        "\n",
        "    plt.subplot(1, 4, 1)\n",
        "    plt.plot(epochs, train_losses, label=\"Train Loss\", color='red')\n",
        "    plt.plot(epochs, val_losses, label=\"Val Loss\", color='orange')\n",
        "    plt.xlabel(\"Epoch\")\n",
        "    plt.ylabel(\"Loss\")\n",
        "    plt.title(\"Loss Over Epochs\")\n",
        "    plt.legend()\n",
        "\n",
        "    plt.subplot(1, 4, 2)\n",
        "    plt.plot(epochs, train_accuracies, label=\"Train Acc\", color='blue')\n",
        "    plt.plot(epochs, val_accuracies, label=\"Val Acc\", color='green')\n",
        "    plt.xlabel(\"Epoch\")\n",
        "    plt.ylabel(\"Accuracy\")\n",
        "    plt.title(\"Accuracy Over Epochs\")\n",
        "    plt.legend()\n",
        "\n",
        "    cm = confusion_matrix(test_labels, test_preds)\n",
        "    plt.subplot(1, 4, 3)\n",
        "    sns.heatmap(cm, annot=True, fmt='d', cmap='Blues')\n",
        "    plt.xlabel(\"Predicted\")\n",
        "    plt.ylabel(\"True\")\n",
        "    plt.title(\"Confusion Matrix\")\n",
        "\n",
        "    report = classification_report(test_labels, test_preds, digits=4, output_dict=True)\n",
        "    f1_scores = [report[str(i)]['f1-score'] for i in range(NUM_CLASSES)]\n",
        "    plt.subplot(1, 4, 4)\n",
        "    plt.bar(range(NUM_CLASSES), f1_scores, color='purple')\n",
        "    plt.title(\"F1-Score per Class\")\n",
        "    plt.xlabel(\"Class\")\n",
        "    plt.ylabel(\"F1 Score\")\n",
        "    plt.tight_layout()\n",
        "    plt.show()\n",
        "\n",
        "    print(\"Classification Report:\\n\")\n",
        "    print(classification_report(test_labels, test_preds, digits=4))"
      ]
    },
    {
      "cell_type": "code",
      "execution_count": 23,
      "metadata": {
        "colab": {
          "base_uri": "https://localhost:8080/",
          "height": 1000
        },
        "id": "6o_9v27CqZu2",
        "outputId": "b3fae451-6381-4e0b-a6ba-99260426121e"
      },
      "outputs": [
        {
          "name": "stderr",
          "output_type": "stream",
          "text": [
            "c:\\Users\\ASUS\\AppData\\Local\\Programs\\Python\\Python312\\Lib\\site-packages\\torch\\nn\\modules\\rnn.py:123: UserWarning: dropout option adds dropout after all but last recurrent layer, so non-zero dropout expects num_layers greater than 1, but got dropout=0.3 and num_layers=1\n",
            "  warnings.warn(\n"
          ]
        },
        {
          "name": "stdout",
          "output_type": "stream",
          "text": [
            "Epoch 1/20 | Train Loss: 4.2977, Acc: 0.6171 | Val Loss: 1.4139, Acc: 0.6136\n",
            "Epoch 2/20 | Train Loss: 3.9979, Acc: 0.6171 | Val Loss: 1.4563, Acc: 0.6818\n",
            "Epoch 3/20 | Train Loss: 3.9171, Acc: 0.6400 | Val Loss: 1.5289, Acc: 0.7045\n",
            "Epoch 4/20 | Train Loss: 3.7763, Acc: 0.6857 | Val Loss: 1.5076, Acc: 0.6818\n",
            "Epoch 5/20 | Train Loss: 3.5781, Acc: 0.7086 | Val Loss: 1.4450, Acc: 0.6591\n",
            "Epoch 6/20 | Train Loss: 3.4106, Acc: 0.7257 | Val Loss: 1.5033, Acc: 0.6818\n",
            "Epoch 7/20 | Train Loss: 3.3482, Acc: 0.7486 | Val Loss: 1.5023, Acc: 0.6818\n",
            "Epoch 8/20 | Train Loss: 3.3511, Acc: 0.7829 | Val Loss: 1.4343, Acc: 0.6591\n",
            "Epoch 9/20 | Train Loss: 3.1580, Acc: 0.7829 | Val Loss: 1.3726, Acc: 0.6818\n",
            "Epoch 10/20 | Train Loss: 2.9150, Acc: 0.8514 | Val Loss: 1.3178, Acc: 0.7273\n",
            "Epoch 11/20 | Train Loss: 2.9234, Acc: 0.8629 | Val Loss: 1.3071, Acc: 0.7273\n",
            "Epoch 12/20 | Train Loss: 2.7447, Acc: 0.8686 | Val Loss: 1.3675, Acc: 0.7045\n",
            "Epoch 13/20 | Train Loss: 2.5196, Acc: 0.8743 | Val Loss: 1.3934, Acc: 0.7273\n",
            "Epoch 14/20 | Train Loss: 2.3445, Acc: 0.8743 | Val Loss: 1.3817, Acc: 0.7045\n",
            "Epoch 15/20 | Train Loss: 2.2978, Acc: 0.9200 | Val Loss: 1.5619, Acc: 0.7045\n",
            "Epoch 16/20 | Train Loss: 2.0982, Acc: 0.9314 | Val Loss: 1.3124, Acc: 0.7955\n",
            "Epoch 17/20 | Train Loss: 1.7790, Acc: 0.9143 | Val Loss: 1.5213, Acc: 0.7273\n",
            "Epoch 18/20 | Train Loss: 1.6814, Acc: 0.9543 | Val Loss: 1.4332, Acc: 0.7273\n",
            "Epoch 19/20 | Train Loss: 1.5874, Acc: 0.9543 | Val Loss: 1.4028, Acc: 0.7500\n",
            "Epoch 20/20 | Train Loss: 1.3916, Acc: 0.9829 | Val Loss: 1.4880, Acc: 0.7273\n",
            "✅ Final Test Accuracy: 0.5200\n",
            "📁 Saved audio prediction probabilities to 'audio_test_predictions.xlsx'\n"
          ]
        },
        {
          "data": {
            "image/png": "[encoded data removed]",
            "text/plain": [
              "<Figure size 1800x500 with 5 Axes>"
            ]
          },
          "metadata": {},
          "output_type": "display_data"
        },
        {
          "name": "stdout",
          "output_type": "stream",
          "text": [
            "Classification Report:\n",
            "\n",
            "              precision    recall  f1-score   support\n",
            "\n",
            "           0     0.6667    0.5882    0.6250        34\n",
            "           1     0.3000    0.3750    0.3333        16\n",
            "\n",
            "    accuracy                         0.5200        50\n",
            "   macro avg     0.4833    0.4816    0.4792        50\n",
            "weighted avg     0.5493    0.5200    0.5317        50\n",
            "\n"
          ]
        }
      ],
      "source": [
        "# Run the training\n",
        "if __name__ == \"__main__\":\n",
        "    train_and_evaluate()"
      ]
    },
    {
      "cell_type": "code",
      "execution_count": null,
      "metadata": {
        "colab": {
          "background_save": true
        },
        "id": "wzWDWJTtqcew"
      },
      "outputs": [],
      "source": []
    }
  ],
  "metadata": {
    "accelerator": "GPU",
    "colab": {
      "gpuType": "T4",
      "provenance": []
    },
    "kernelspec": {
      "display_name": "Python 3",
      "name": "python3"
    },
    "language_info": {
      "codemirror_mode": {
        "name": "ipython",
        "version": 3
      },
      "file_extension": ".py",
      "mimetype": "text/x-python",
      "name": "python",
      "nbconvert_exporter": "python",
      "pygments_lexer": "ipython3",
      "version": "3.12.4"
    }
  },
  "nbformat": 4,
  "nbformat_minor": 0
}
