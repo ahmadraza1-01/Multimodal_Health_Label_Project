{
  "nbformat": 4,
  "nbformat_minor": 0,
  "metadata": {
    "colab": {
      "provenance": []
    },
    "kernelspec": {
      "name": "python3",
      "display_name": "Python 3"
    },
    "language_info": {
      "name": "python"
    }
  },
  "cells": [
    {
      "cell_type": "code",
      "execution_count": 46,
      "metadata": {
        "colab": {
          "base_uri": "https://localhost:8080/"
        },
        "id": "sxa4QNbSU0DK",
        "outputId": "26b2ef8c-7f68-4916-b183-d1fdc4a931b0"
      },
      "outputs": [
        {
          "output_type": "stream",
          "name": "stdout",
          "text": [
            "Accuracy: 0.7000\n",
            "\n",
            "Classification Report:\n",
            "              precision    recall  f1-score   support\n",
            "\n",
            "           0       0.79      0.76      0.78        34\n",
            "           1       0.53      0.56      0.55        16\n",
            "\n",
            "    accuracy                           0.70        50\n",
            "   macro avg       0.66      0.66      0.66        50\n",
            "weighted avg       0.71      0.70      0.70        50\n",
            "\n",
            "\n",
            "Confusion Matrix:\n",
            "[[26  8]\n",
            " [ 7  9]]\n"
          ]
        }
      ],
      "source": [
        "import pandas as pd\n",
        "from sklearn.metrics import accuracy_score, classification_report, confusion_matrix\n",
        "\n",
        "# Load prediction files\n",
        "text_df = pd.read_excel(\"/content/text_probabilities.xlsx\")       # Replace with actual file name\n",
        "audio_df = pd.read_excel(\"/content/audio_test_predictions_final_final.xlsx\")     # Replace with actual file name\n",
        "face_df = pd.read_csv(\"/content/Unseen Predictions with Uncertainty.csv\")          # Replace with actual file name\n",
        "labels_df = pd.read_csv(\"/content/Detailed Labels.csv\")      # Replace with actual file name\n",
        "\n",
        "# Merge on common Participant_IDs only (inner join)\n",
        "merged_df = text_df.merge(text_df, on='Participant_ID', how='inner')\n",
        "merged_df = text_df.merge(audio_df, on='Participant_ID', how='inner')\n",
        "merged_df = merged_df.merge(face_df, on='Participant_ID', how='inner')\n",
        "merged_df = merged_df.merge(labels_df[['Participant_ID', 'Depression_label']], on='Participant_ID', how='inner')\n",
        "\n",
        "# Drop any rows with missing values just in case\n",
        "merged_df = merged_df.dropna()\n",
        "\n",
        "# print(merged_df.head())\n",
        "\n",
        "# Compute average probabilities\n",
        "merged_df['avg_prob_0'] = merged_df[['Text_Prob_0', 'audio_prob_0', 'face_prob_0']].mean(axis=1)\n",
        "merged_df['avg_prob_1'] = merged_df[['Text_Prob_1', 'audio_prob_1', 'face_prob_1']].mean(axis=1)\n",
        "\n",
        "# Predict based on which probability is higher\n",
        "merged_df['predicted'] = (merged_df['avg_prob_1'] > merged_df['avg_prob_0']).astype(int)\n",
        "\n",
        "\n",
        "# True labels and predictions\n",
        "y_true = merged_df['Depression_label']\n",
        "y_pred = merged_df['predicted']\n",
        "\n",
        "# Evaluation metrics\n",
        "accuracy = accuracy_score(y_true, y_pred)\n",
        "print(f\"Accuracy: {accuracy:.4f}\")\n",
        "print(\"\\nClassification Report:\")\n",
        "print(classification_report(y_true, y_pred))\n",
        "print(\"\\nConfusion Matrix:\")\n",
        "print(confusion_matrix(y_true, y_pred))\n"
      ]
    },
    {
      "cell_type": "code",
      "source": [],
      "metadata": {
        "id": "UDxlQ9M4ZvK9"
      },
      "execution_count": 44,
      "outputs": []
    },
    {
      "cell_type": "code",
      "source": [],
      "metadata": {
        "id": "mnvmOKcMaa_M"
      },
      "execution_count": null,
      "outputs": []
    },
    {
      "cell_type": "code",
      "source": [],
      "metadata": {
        "id": "jgoF85aWcF93"
      },
      "execution_count": 43,
      "outputs": []
    }
  ]
}